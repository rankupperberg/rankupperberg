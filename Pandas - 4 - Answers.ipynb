{
 "cells": [
  {
   "cell_type": "markdown",
   "metadata": {
    "id": "XJ9m7yCA-1Fu"
   },
   "source": [
    "# Pandas & Matplotlib"
   ]
  },
  {
   "cell_type": "markdown",
   "metadata": {
    "button": false,
    "id": "8Fx18O7x-1Fv",
    "new_sheet": false,
    "run_control": {
     "read_only": false
    }
   },
   "source": [
    "Let's start by importing `Pandas`, `NumPy` `Matplotlib` , `Matplotlib.pyplot` as follows:"
   ]
  },
  {
   "cell_type": "code",
   "execution_count": 1,
   "metadata": {
    "button": false,
    "id": "sBbtKmJ2-1Fw",
    "new_sheet": false,
    "run_control": {
     "read_only": false
    },
    "tags": []
   },
   "outputs": [],
   "source": [
    "import matplotlib as mpl\n",
    "import matplotlib.pyplot as plt\n",
    "\n",
    "import numpy as np\n",
    "import pandas as pd"
   ]
  },
  {
   "cell_type": "markdown",
   "metadata": {
    "id": "h1HkuySh-1Fw"
   },
   "source": [
    "## Load file - Make sure the excel 'DataFrame for Python.xlsx' is in the same path as the Notebook"
   ]
  },
  {
   "cell_type": "code",
   "execution_count": 2,
   "metadata": {
    "id": "x-ewF9w7-1Fx",
    "tags": []
   },
   "outputs": [
    {
     "data": {
      "text/plain": [
       "'C:\\\\Users\\\\Administrator.DC-VM\\\\Downloads\\\\P4'"
      ]
     },
     "execution_count": 2,
     "metadata": {},
     "output_type": "execute_result"
    }
   ],
   "source": [
    "pwd"
   ]
  },
  {
   "cell_type": "code",
   "execution_count": 52,
   "metadata": {
    "id": "slTZo9k0-1Fx",
    "tags": []
   },
   "outputs": [
    {
     "data": {
      "text/html": [
       "<div>\n",
       "<style scoped>\n",
       "    .dataframe tbody tr th:only-of-type {\n",
       "        vertical-align: middle;\n",
       "    }\n",
       "\n",
       "    .dataframe tbody tr th {\n",
       "        vertical-align: top;\n",
       "    }\n",
       "\n",
       "    .dataframe thead th {\n",
       "        text-align: right;\n",
       "    }\n",
       "</style>\n",
       "<table border=\"1\" class=\"dataframe\">\n",
       "  <thead>\n",
       "    <tr style=\"text-align: right;\">\n",
       "      <th></th>\n",
       "      <th>CategoryName</th>\n",
       "      <th>SupplierName</th>\n",
       "      <th>ProductName</th>\n",
       "      <th>1996</th>\n",
       "      <th>1997</th>\n",
       "      <th>1998</th>\n",
       "    </tr>\n",
       "  </thead>\n",
       "  <tbody>\n",
       "    <tr>\n",
       "      <th>0</th>\n",
       "      <td>Beverages</td>\n",
       "      <td>Aux joyeux ecclésiastiques</td>\n",
       "      <td>Chartreuse verte</td>\n",
       "      <td>3558</td>\n",
       "      <td>4475</td>\n",
       "      <td>4260</td>\n",
       "    </tr>\n",
       "    <tr>\n",
       "      <th>1</th>\n",
       "      <td>Beverages</td>\n",
       "      <td>Aux joyeux ecclésiastiques</td>\n",
       "      <td>Côte de Blaye</td>\n",
       "      <td>24874</td>\n",
       "      <td>49198</td>\n",
       "      <td>67324</td>\n",
       "    </tr>\n",
       "    <tr>\n",
       "      <th>2</th>\n",
       "      <td>Beverages</td>\n",
       "      <td>Bigfoot Breweries</td>\n",
       "      <td>Laughing Lumberjack Lager</td>\n",
       "      <td>42</td>\n",
       "      <td>910</td>\n",
       "      <td>1444</td>\n",
       "    </tr>\n",
       "    <tr>\n",
       "      <th>3</th>\n",
       "      <td>Beverages</td>\n",
       "      <td>Bigfoot Breweries</td>\n",
       "      <td>Sasquatch Ale</td>\n",
       "      <td>1002</td>\n",
       "      <td>2107</td>\n",
       "      <td>3241</td>\n",
       "    </tr>\n",
       "    <tr>\n",
       "      <th>4</th>\n",
       "      <td>Beverages</td>\n",
       "      <td>Bigfoot Breweries</td>\n",
       "      <td>Steeleye Stout</td>\n",
       "      <td>3736</td>\n",
       "      <td>5274</td>\n",
       "      <td>4632</td>\n",
       "    </tr>\n",
       "    <tr>\n",
       "      <th>5</th>\n",
       "      <td>Beverages</td>\n",
       "      <td>Exotic Liquids</td>\n",
       "      <td>Chai</td>\n",
       "      <td>1605</td>\n",
       "      <td>4887</td>\n",
       "      <td>6295</td>\n",
       "    </tr>\n",
       "    <tr>\n",
       "      <th>6</th>\n",
       "      <td>Beverages</td>\n",
       "      <td>Exotic Liquids</td>\n",
       "      <td>Chang</td>\n",
       "      <td>3017</td>\n",
       "      <td>7038</td>\n",
       "      <td>6299</td>\n",
       "    </tr>\n",
       "    <tr>\n",
       "      <th>7</th>\n",
       "      <td>Beverages</td>\n",
       "      <td>Karkki Oy</td>\n",
       "      <td>Lakkalikööri</td>\n",
       "      <td>2046</td>\n",
       "      <td>7379</td>\n",
       "      <td>6335</td>\n",
       "    </tr>\n",
       "    <tr>\n",
       "      <th>8</th>\n",
       "      <td>Beverages</td>\n",
       "      <td>Leka Trading</td>\n",
       "      <td>Ipoh Coffee</td>\n",
       "      <td>4931</td>\n",
       "      <td>11069</td>\n",
       "      <td>7525</td>\n",
       "    </tr>\n",
       "    <tr>\n",
       "      <th>9</th>\n",
       "      <td>Beverages</td>\n",
       "      <td>Pavlova, Ltd.</td>\n",
       "      <td>Outback Lager</td>\n",
       "      <td>1809</td>\n",
       "      <td>5468</td>\n",
       "      <td>3395</td>\n",
       "    </tr>\n",
       "    <tr>\n",
       "      <th>10</th>\n",
       "      <td>Beverages</td>\n",
       "      <td>Plutzer Lebensmittelgroßmärkte AG</td>\n",
       "      <td>Rhönbräu Klosterbier</td>\n",
       "      <td>738</td>\n",
       "      <td>4485</td>\n",
       "      <td>2953</td>\n",
       "    </tr>\n",
       "    <tr>\n",
       "      <th>11</th>\n",
       "      <td>Beverages</td>\n",
       "      <td>Refrescos Americanas LTDA</td>\n",
       "      <td>Guaraná Fantástica</td>\n",
       "      <td>556</td>\n",
       "      <td>1630</td>\n",
       "      <td>2317</td>\n",
       "    </tr>\n",
       "    <tr>\n",
       "      <th>12</th>\n",
       "      <td>Condiments</td>\n",
       "      <td>Exotic Liquids</td>\n",
       "      <td>Aniseed Syrup</td>\n",
       "      <td>240</td>\n",
       "      <td>1724</td>\n",
       "      <td>1080</td>\n",
       "    </tr>\n",
       "    <tr>\n",
       "      <th>13</th>\n",
       "      <td>Condiments</td>\n",
       "      <td>Forêts d'érables</td>\n",
       "      <td>Sirop d'érable</td>\n",
       "      <td>0</td>\n",
       "      <td>9091</td>\n",
       "      <td>5261</td>\n",
       "    </tr>\n",
       "    <tr>\n",
       "      <th>14</th>\n",
       "      <td>Condiments</td>\n",
       "      <td>Grandma Kelly's Homestead</td>\n",
       "      <td>Grandma's Boysenberry Spread</td>\n",
       "      <td>720</td>\n",
       "      <td>2500</td>\n",
       "      <td>3917</td>\n",
       "    </tr>\n",
       "    <tr>\n",
       "      <th>15</th>\n",
       "      <td>Condiments</td>\n",
       "      <td>Grandma Kelly's Homestead</td>\n",
       "      <td>Northwoods Cranberry Sauce</td>\n",
       "      <td>3920</td>\n",
       "      <td>4260</td>\n",
       "      <td>4592</td>\n",
       "    </tr>\n",
       "    <tr>\n",
       "      <th>16</th>\n",
       "      <td>Condiments</td>\n",
       "      <td>Leka Trading</td>\n",
       "      <td>Gula Malacca</td>\n",
       "      <td>2042</td>\n",
       "      <td>6737</td>\n",
       "      <td>1135</td>\n",
       "    </tr>\n",
       "    <tr>\n",
       "      <th>17</th>\n",
       "      <td>Condiments</td>\n",
       "      <td>Mayumi's</td>\n",
       "      <td>Genen Shouyu</td>\n",
       "      <td>310</td>\n",
       "      <td>1474</td>\n",
       "      <td>0</td>\n",
       "    </tr>\n",
       "    <tr>\n",
       "      <th>18</th>\n",
       "      <td>Condiments</td>\n",
       "      <td>New Orleans Cajun Delights</td>\n",
       "      <td>Chef Anton's Cajun Seasoning</td>\n",
       "      <td>1851</td>\n",
       "      <td>5214</td>\n",
       "      <td>1501</td>\n",
       "    </tr>\n",
       "    <tr>\n",
       "      <th>19</th>\n",
       "      <td>Condiments</td>\n",
       "      <td>New Orleans Cajun Delights</td>\n",
       "      <td>Chef Anton's Gumbo Mix</td>\n",
       "      <td>1931</td>\n",
       "      <td>373</td>\n",
       "      <td>3042</td>\n",
       "    </tr>\n",
       "    <tr>\n",
       "      <th>20</th>\n",
       "      <td>Condiments</td>\n",
       "      <td>New Orleans Cajun Delights</td>\n",
       "      <td>Louisiana Fiery Hot Pepper Sauce</td>\n",
       "      <td>2473</td>\n",
       "      <td>9373</td>\n",
       "      <td>2022</td>\n",
       "    </tr>\n",
       "    <tr>\n",
       "      <th>21</th>\n",
       "      <td>Condiments</td>\n",
       "      <td>New Orleans Cajun Delights</td>\n",
       "      <td>Louisiana Hot Spiced Okra</td>\n",
       "      <td>408</td>\n",
       "      <td>2958</td>\n",
       "      <td>17</td>\n",
       "    </tr>\n",
       "    <tr>\n",
       "      <th>22</th>\n",
       "      <td>Condiments</td>\n",
       "      <td>Pavlova, Ltd.</td>\n",
       "      <td>Vegie-spread</td>\n",
       "      <td>3348</td>\n",
       "      <td>6899</td>\n",
       "      <td>6453</td>\n",
       "    </tr>\n",
       "    <tr>\n",
       "      <th>23</th>\n",
       "      <td>Condiments</td>\n",
       "      <td>Plutzer Lebensmittelgroßmärkte AG</td>\n",
       "      <td>Original Frankfurter grüne Soße</td>\n",
       "      <td>655</td>\n",
       "      <td>4761</td>\n",
       "      <td>3755</td>\n",
       "    </tr>\n",
       "    <tr>\n",
       "      <th>24</th>\n",
       "      <td>Confections</td>\n",
       "      <td>Forêts d'érables</td>\n",
       "      <td>Tarte au sucre</td>\n",
       "      <td>9603</td>\n",
       "      <td>21638</td>\n",
       "      <td>15992</td>\n",
       "    </tr>\n",
       "    <tr>\n",
       "      <th>25</th>\n",
       "      <td>Confections</td>\n",
       "      <td>Heli Süßwaren GmbH &amp; Co. KG</td>\n",
       "      <td>Gumbär Gummibärchen</td>\n",
       "      <td>3361</td>\n",
       "      <td>10443</td>\n",
       "      <td>6044</td>\n",
       "    </tr>\n",
       "    <tr>\n",
       "      <th>26</th>\n",
       "      <td>Confections</td>\n",
       "      <td>Heli Süßwaren GmbH &amp; Co. KG</td>\n",
       "      <td>NuNuCa Nuß-Nougat-Creme</td>\n",
       "      <td>775</td>\n",
       "      <td>1692</td>\n",
       "      <td>1236</td>\n",
       "    </tr>\n",
       "    <tr>\n",
       "      <th>27</th>\n",
       "      <td>Confections</td>\n",
       "      <td>Heli Süßwaren GmbH &amp; Co. KG</td>\n",
       "      <td>Schoggi Schokolade</td>\n",
       "      <td>1272</td>\n",
       "      <td>10974</td>\n",
       "      <td>2853</td>\n",
       "    </tr>\n",
       "    <tr>\n",
       "      <th>28</th>\n",
       "      <td>Confections</td>\n",
       "      <td>Karkki Oy</td>\n",
       "      <td>Maxilaku</td>\n",
       "      <td>1920</td>\n",
       "      <td>3128</td>\n",
       "      <td>4196</td>\n",
       "    </tr>\n",
       "    <tr>\n",
       "      <th>29</th>\n",
       "      <td>Confections</td>\n",
       "      <td>Karkki Oy</td>\n",
       "      <td>Valkoinen suklaa</td>\n",
       "      <td>370</td>\n",
       "      <td>2173</td>\n",
       "      <td>893</td>\n",
       "    </tr>\n",
       "    <tr>\n",
       "      <th>30</th>\n",
       "      <td>Confections</td>\n",
       "      <td>Pavlova, Ltd.</td>\n",
       "      <td>Pavlova</td>\n",
       "      <td>3128</td>\n",
       "      <td>8663</td>\n",
       "      <td>5424</td>\n",
       "    </tr>\n",
       "    <tr>\n",
       "      <th>31</th>\n",
       "      <td>Confections</td>\n",
       "      <td>Specialty Biscuits, Ltd.</td>\n",
       "      <td>Scottish Longbreads</td>\n",
       "      <td>1294</td>\n",
       "      <td>4157</td>\n",
       "      <td>3262</td>\n",
       "    </tr>\n",
       "    <tr>\n",
       "      <th>32</th>\n",
       "      <td>Confections</td>\n",
       "      <td>Specialty Biscuits, Ltd.</td>\n",
       "      <td>Sir Rodney's Marmalade</td>\n",
       "      <td>6544</td>\n",
       "      <td>7314</td>\n",
       "      <td>8704</td>\n",
       "    </tr>\n",
       "    <tr>\n",
       "      <th>33</th>\n",
       "      <td>Confections</td>\n",
       "      <td>Specialty Biscuits, Ltd.</td>\n",
       "      <td>Sir Rodney's Scones</td>\n",
       "      <td>416</td>\n",
       "      <td>5273</td>\n",
       "      <td>3415</td>\n",
       "    </tr>\n",
       "    <tr>\n",
       "      <th>34</th>\n",
       "      <td>Confections</td>\n",
       "      <td>Specialty Biscuits, Ltd.</td>\n",
       "      <td>Teatime Chocolate Biscuits</td>\n",
       "      <td>901</td>\n",
       "      <td>2986</td>\n",
       "      <td>1974</td>\n",
       "    </tr>\n",
       "    <tr>\n",
       "      <th>35</th>\n",
       "      <td>Confections</td>\n",
       "      <td>Zaanse Snoepfabriek</td>\n",
       "      <td>Chocolade</td>\n",
       "      <td>0</td>\n",
       "      <td>1282</td>\n",
       "      <td>86</td>\n",
       "    </tr>\n",
       "    <tr>\n",
       "      <th>36</th>\n",
       "      <td>Confections</td>\n",
       "      <td>Zaanse Snoepfabriek</td>\n",
       "      <td>Zaanse koeken</td>\n",
       "      <td>97</td>\n",
       "      <td>2930</td>\n",
       "      <td>930</td>\n",
       "    </tr>\n",
       "    <tr>\n",
       "      <th>37</th>\n",
       "      <td>Dairy Products</td>\n",
       "      <td>Cooperativa de Quesos 'Las Cabras'</td>\n",
       "      <td>Queso Cabrales</td>\n",
       "      <td>1606</td>\n",
       "      <td>6911</td>\n",
       "      <td>4383</td>\n",
       "    </tr>\n",
       "    <tr>\n",
       "      <th>38</th>\n",
       "      <td>Dairy Products</td>\n",
       "      <td>Cooperativa de Quesos 'Las Cabras'</td>\n",
       "      <td>Queso Manchego La Pastora</td>\n",
       "      <td>346</td>\n",
       "      <td>8335</td>\n",
       "      <td>3575</td>\n",
       "    </tr>\n",
       "    <tr>\n",
       "      <th>39</th>\n",
       "      <td>Dairy Products</td>\n",
       "      <td>Formaggi Fortini s.r.l.</td>\n",
       "      <td>Gorgonzola Telino</td>\n",
       "      <td>4154</td>\n",
       "      <td>7300</td>\n",
       "      <td>3465</td>\n",
       "    </tr>\n",
       "    <tr>\n",
       "      <th>40</th>\n",
       "      <td>Dairy Products</td>\n",
       "      <td>Formaggi Fortini s.r.l.</td>\n",
       "      <td>Mascarpone Fabioli</td>\n",
       "      <td>1167</td>\n",
       "      <td>2668</td>\n",
       "      <td>4568</td>\n",
       "    </tr>\n",
       "    <tr>\n",
       "      <th>41</th>\n",
       "      <td>Dairy Products</td>\n",
       "      <td>Formaggi Fortini s.r.l.</td>\n",
       "      <td>Mozzarella di Giovanni</td>\n",
       "      <td>6772</td>\n",
       "      <td>11602</td>\n",
       "      <td>6524</td>\n",
       "    </tr>\n",
       "    <tr>\n",
       "      <th>42</th>\n",
       "      <td>Dairy Products</td>\n",
       "      <td>Gai pâturage</td>\n",
       "      <td>Camembert Pierrot</td>\n",
       "      <td>9024</td>\n",
       "      <td>20505</td>\n",
       "      <td>17295</td>\n",
       "    </tr>\n",
       "    <tr>\n",
       "      <th>43</th>\n",
       "      <td>Dairy Products</td>\n",
       "      <td>Gai pâturage</td>\n",
       "      <td>Raclette Courdavault</td>\n",
       "      <td>9035</td>\n",
       "      <td>35775</td>\n",
       "      <td>26345</td>\n",
       "    </tr>\n",
       "    <tr>\n",
       "      <th>44</th>\n",
       "      <td>Dairy Products</td>\n",
       "      <td>Norske Meierier</td>\n",
       "      <td>Flotemysost</td>\n",
       "      <td>4248</td>\n",
       "      <td>8438</td>\n",
       "      <td>6863</td>\n",
       "    </tr>\n",
       "    <tr>\n",
       "      <th>45</th>\n",
       "      <td>Dairy Products</td>\n",
       "      <td>Norske Meierier</td>\n",
       "      <td>Geitost</td>\n",
       "      <td>385</td>\n",
       "      <td>786</td>\n",
       "      <td>476</td>\n",
       "    </tr>\n",
       "    <tr>\n",
       "      <th>46</th>\n",
       "      <td>Dairy Products</td>\n",
       "      <td>Norske Meierier</td>\n",
       "      <td>Gudbrandsdalsost</td>\n",
       "      <td>4239</td>\n",
       "      <td>13062</td>\n",
       "      <td>4640</td>\n",
       "    </tr>\n",
       "    <tr>\n",
       "      <th>47</th>\n",
       "      <td>Grains/Cereals</td>\n",
       "      <td>G'day, Mate</td>\n",
       "      <td>Filo Mix</td>\n",
       "      <td>246</td>\n",
       "      <td>2124</td>\n",
       "      <td>862</td>\n",
       "    </tr>\n",
       "    <tr>\n",
       "      <th>48</th>\n",
       "      <td>Grains/Cereals</td>\n",
       "      <td>Leka Trading</td>\n",
       "      <td>Singaporean Hokkien Fried Mee</td>\n",
       "      <td>377</td>\n",
       "      <td>5408</td>\n",
       "      <td>2788</td>\n",
       "    </tr>\n",
       "    <tr>\n",
       "      <th>49</th>\n",
       "      <td>Grains/Cereals</td>\n",
       "      <td>Pasta Buttini s.r.l.</td>\n",
       "      <td>Gnocchi di nonna Alice</td>\n",
       "      <td>2763</td>\n",
       "      <td>32604</td>\n",
       "      <td>7225</td>\n",
       "    </tr>\n",
       "    <tr>\n",
       "      <th>50</th>\n",
       "      <td>Grains/Cereals</td>\n",
       "      <td>Pasta Buttini s.r.l.</td>\n",
       "      <td>Ravioli Angelo</td>\n",
       "      <td>2063</td>\n",
       "      <td>2156</td>\n",
       "      <td>3441</td>\n",
       "    </tr>\n",
       "    <tr>\n",
       "      <th>51</th>\n",
       "      <td>Grains/Cereals</td>\n",
       "      <td>PB Knäckebröd AB</td>\n",
       "      <td>Gustaf's Knäckebröd</td>\n",
       "      <td>95</td>\n",
       "      <td>4233</td>\n",
       "      <td>2793</td>\n",
       "    </tr>\n",
       "    <tr>\n",
       "      <th>52</th>\n",
       "      <td>Grains/Cereals</td>\n",
       "      <td>PB Knäckebröd AB</td>\n",
       "      <td>Tunnbröd</td>\n",
       "      <td>756</td>\n",
       "      <td>2288</td>\n",
       "      <td>1557</td>\n",
       "    </tr>\n",
       "    <tr>\n",
       "      <th>53</th>\n",
       "      <td>Grains/Cereals</td>\n",
       "      <td>Plutzer Lebensmittelgroßmärkte AG</td>\n",
       "      <td>Wimmers gute Semmelknödel</td>\n",
       "      <td>3205</td>\n",
       "      <td>8056</td>\n",
       "      <td>10696</td>\n",
       "    </tr>\n",
       "    <tr>\n",
       "      <th>54</th>\n",
       "      <td>Meat/Poultry</td>\n",
       "      <td>G'day, Mate</td>\n",
       "      <td>Perth Pasties</td>\n",
       "      <td>5103</td>\n",
       "      <td>10661</td>\n",
       "      <td>4808</td>\n",
       "    </tr>\n",
       "    <tr>\n",
       "      <th>55</th>\n",
       "      <td>Meat/Poultry</td>\n",
       "      <td>Ma Maison</td>\n",
       "      <td>Pâté chinois</td>\n",
       "      <td>3933</td>\n",
       "      <td>7832</td>\n",
       "      <td>5660</td>\n",
       "    </tr>\n",
       "    <tr>\n",
       "      <th>56</th>\n",
       "      <td>Meat/Poultry</td>\n",
       "      <td>Ma Maison</td>\n",
       "      <td>Tourtière</td>\n",
       "      <td>885</td>\n",
       "      <td>3184</td>\n",
       "      <td>658</td>\n",
       "    </tr>\n",
       "    <tr>\n",
       "      <th>57</th>\n",
       "      <td>Meat/Poultry</td>\n",
       "      <td>Pavlova, Ltd.</td>\n",
       "      <td>Alice Mutton</td>\n",
       "      <td>6962</td>\n",
       "      <td>17604</td>\n",
       "      <td>8131</td>\n",
       "    </tr>\n",
       "    <tr>\n",
       "      <th>58</th>\n",
       "      <td>Meat/Poultry</td>\n",
       "      <td>Plutzer Lebensmittelgroßmärkte AG</td>\n",
       "      <td>Thüringer Rostbratwurst</td>\n",
       "      <td>11929</td>\n",
       "      <td>34755</td>\n",
       "      <td>33683</td>\n",
       "    </tr>\n",
       "    <tr>\n",
       "      <th>59</th>\n",
       "      <td>Meat/Poultry</td>\n",
       "      <td>Tokyo Traders</td>\n",
       "      <td>Mishi Kobe Niku</td>\n",
       "      <td>0</td>\n",
       "      <td>6935</td>\n",
       "      <td>291</td>\n",
       "    </tr>\n",
       "    <tr>\n",
       "      <th>60</th>\n",
       "      <td>Produce</td>\n",
       "      <td>G'day, Mate</td>\n",
       "      <td>Manjimup Dried Apples</td>\n",
       "      <td>6158</td>\n",
       "      <td>24570</td>\n",
       "      <td>11090</td>\n",
       "    </tr>\n",
       "    <tr>\n",
       "      <th>61</th>\n",
       "      <td>Produce</td>\n",
       "      <td>Grandma Kelly's Homestead</td>\n",
       "      <td>Uncle Bob's Organic Dried Pears</td>\n",
       "      <td>552</td>\n",
       "      <td>9186</td>\n",
       "      <td>12306</td>\n",
       "    </tr>\n",
       "    <tr>\n",
       "      <th>62</th>\n",
       "      <td>Produce</td>\n",
       "      <td>Mayumi's</td>\n",
       "      <td>Tofu</td>\n",
       "      <td>1385</td>\n",
       "      <td>6234</td>\n",
       "      <td>371</td>\n",
       "    </tr>\n",
       "    <tr>\n",
       "      <th>63</th>\n",
       "      <td>Produce</td>\n",
       "      <td>Plutzer Lebensmittelgroßmärkte AG</td>\n",
       "      <td>Rössle Sauerkraut</td>\n",
       "      <td>4757</td>\n",
       "      <td>13948</td>\n",
       "      <td>6990</td>\n",
       "    </tr>\n",
       "    <tr>\n",
       "      <th>64</th>\n",
       "      <td>Produce</td>\n",
       "      <td>Tokyo Traders</td>\n",
       "      <td>Longlife Tofu</td>\n",
       "      <td>1032</td>\n",
       "      <td>1000</td>\n",
       "      <td>400</td>\n",
       "    </tr>\n",
       "    <tr>\n",
       "      <th>65</th>\n",
       "      <td>Seafood</td>\n",
       "      <td>Escargots Nouveaux</td>\n",
       "      <td>Escargots de Bourgogne</td>\n",
       "      <td>1378</td>\n",
       "      <td>2076</td>\n",
       "      <td>2427</td>\n",
       "    </tr>\n",
       "    <tr>\n",
       "      <th>66</th>\n",
       "      <td>Seafood</td>\n",
       "      <td>Lyngbysild</td>\n",
       "      <td>Rogede sild</td>\n",
       "      <td>91</td>\n",
       "      <td>3355</td>\n",
       "      <td>891</td>\n",
       "    </tr>\n",
       "    <tr>\n",
       "      <th>67</th>\n",
       "      <td>Seafood</td>\n",
       "      <td>Lyngbysild</td>\n",
       "      <td>Spegesild</td>\n",
       "      <td>1084</td>\n",
       "      <td>2981</td>\n",
       "      <td>1817</td>\n",
       "    </tr>\n",
       "    <tr>\n",
       "      <th>68</th>\n",
       "      <td>Seafood</td>\n",
       "      <td>Mayumi's</td>\n",
       "      <td>Konbu</td>\n",
       "      <td>422</td>\n",
       "      <td>812</td>\n",
       "      <td>3725</td>\n",
       "    </tr>\n",
       "    <tr>\n",
       "      <th>69</th>\n",
       "      <td>Seafood</td>\n",
       "      <td>New England Seafood Cannery</td>\n",
       "      <td>Boston Crab Meat</td>\n",
       "      <td>2778</td>\n",
       "      <td>9814</td>\n",
       "      <td>5317</td>\n",
       "    </tr>\n",
       "    <tr>\n",
       "      <th>70</th>\n",
       "      <td>Seafood</td>\n",
       "      <td>New England Seafood Cannery</td>\n",
       "      <td>Jack's New England Clam Chowder</td>\n",
       "      <td>807</td>\n",
       "      <td>4957</td>\n",
       "      <td>2915</td>\n",
       "    </tr>\n",
       "    <tr>\n",
       "      <th>71</th>\n",
       "      <td>Seafood</td>\n",
       "      <td>Nord-Ost-Fisch Handelsgesellschaft mbH</td>\n",
       "      <td>Nord-Ost Matjeshering</td>\n",
       "      <td>2645</td>\n",
       "      <td>6034</td>\n",
       "      <td>4744</td>\n",
       "    </tr>\n",
       "    <tr>\n",
       "      <th>72</th>\n",
       "      <td>Seafood</td>\n",
       "      <td>Pavlova, Ltd.</td>\n",
       "      <td>Carnarvon Tigers</td>\n",
       "      <td>4725</td>\n",
       "      <td>15950</td>\n",
       "      <td>8496</td>\n",
       "    </tr>\n",
       "    <tr>\n",
       "      <th>73</th>\n",
       "      <td>Seafood</td>\n",
       "      <td>Svensk Sjöföda AB</td>\n",
       "      <td>Gravad lax</td>\n",
       "      <td>603</td>\n",
       "      <td>629</td>\n",
       "      <td>1456</td>\n",
       "    </tr>\n",
       "    <tr>\n",
       "      <th>74</th>\n",
       "      <td>Seafood</td>\n",
       "      <td>Svensk Sjöföda AB</td>\n",
       "      <td>Inlagd Sill</td>\n",
       "      <td>2626</td>\n",
       "      <td>6894</td>\n",
       "      <td>3937</td>\n",
       "    </tr>\n",
       "    <tr>\n",
       "      <th>75</th>\n",
       "      <td>Seafood</td>\n",
       "      <td>Svensk Sjöföda AB</td>\n",
       "      <td>Röd Kaviar</td>\n",
       "      <td>300</td>\n",
       "      <td>3517</td>\n",
       "      <td>179</td>\n",
       "    </tr>\n",
       "    <tr>\n",
       "      <th>76</th>\n",
       "      <td>Seafood</td>\n",
       "      <td>Tokyo Traders</td>\n",
       "      <td>Ikura</td>\n",
       "      <td>1929</td>\n",
       "      <td>9935</td>\n",
       "      <td>9002</td>\n",
       "    </tr>\n",
       "  </tbody>\n",
       "</table>\n",
       "</div>"
      ],
      "text/plain": [
       "      CategoryName                            SupplierName  \\\n",
       "0        Beverages              Aux joyeux ecclésiastiques   \n",
       "1        Beverages              Aux joyeux ecclésiastiques   \n",
       "2        Beverages                       Bigfoot Breweries   \n",
       "3        Beverages                       Bigfoot Breweries   \n",
       "4        Beverages                       Bigfoot Breweries   \n",
       "5        Beverages                          Exotic Liquids   \n",
       "6        Beverages                          Exotic Liquids   \n",
       "7        Beverages                               Karkki Oy   \n",
       "8        Beverages                            Leka Trading   \n",
       "9        Beverages                           Pavlova, Ltd.   \n",
       "10       Beverages       Plutzer Lebensmittelgroßmärkte AG   \n",
       "11       Beverages               Refrescos Americanas LTDA   \n",
       "12      Condiments                          Exotic Liquids   \n",
       "13      Condiments                        Forêts d'érables   \n",
       "14      Condiments               Grandma Kelly's Homestead   \n",
       "15      Condiments               Grandma Kelly's Homestead   \n",
       "16      Condiments                            Leka Trading   \n",
       "17      Condiments                                Mayumi's   \n",
       "18      Condiments              New Orleans Cajun Delights   \n",
       "19      Condiments              New Orleans Cajun Delights   \n",
       "20      Condiments              New Orleans Cajun Delights   \n",
       "21      Condiments              New Orleans Cajun Delights   \n",
       "22      Condiments                           Pavlova, Ltd.   \n",
       "23      Condiments       Plutzer Lebensmittelgroßmärkte AG   \n",
       "24     Confections                        Forêts d'érables   \n",
       "25     Confections             Heli Süßwaren GmbH & Co. KG   \n",
       "26     Confections             Heli Süßwaren GmbH & Co. KG   \n",
       "27     Confections             Heli Süßwaren GmbH & Co. KG   \n",
       "28     Confections                               Karkki Oy   \n",
       "29     Confections                               Karkki Oy   \n",
       "30     Confections                           Pavlova, Ltd.   \n",
       "31     Confections                Specialty Biscuits, Ltd.   \n",
       "32     Confections                Specialty Biscuits, Ltd.   \n",
       "33     Confections                Specialty Biscuits, Ltd.   \n",
       "34     Confections                Specialty Biscuits, Ltd.   \n",
       "35     Confections                     Zaanse Snoepfabriek   \n",
       "36     Confections                     Zaanse Snoepfabriek   \n",
       "37  Dairy Products      Cooperativa de Quesos 'Las Cabras'   \n",
       "38  Dairy Products      Cooperativa de Quesos 'Las Cabras'   \n",
       "39  Dairy Products                 Formaggi Fortini s.r.l.   \n",
       "40  Dairy Products                 Formaggi Fortini s.r.l.   \n",
       "41  Dairy Products                 Formaggi Fortini s.r.l.   \n",
       "42  Dairy Products                            Gai pâturage   \n",
       "43  Dairy Products                            Gai pâturage   \n",
       "44  Dairy Products                         Norske Meierier   \n",
       "45  Dairy Products                         Norske Meierier   \n",
       "46  Dairy Products                         Norske Meierier   \n",
       "47  Grains/Cereals                             G'day, Mate   \n",
       "48  Grains/Cereals                            Leka Trading   \n",
       "49  Grains/Cereals                    Pasta Buttini s.r.l.   \n",
       "50  Grains/Cereals                    Pasta Buttini s.r.l.   \n",
       "51  Grains/Cereals                        PB Knäckebröd AB   \n",
       "52  Grains/Cereals                        PB Knäckebröd AB   \n",
       "53  Grains/Cereals       Plutzer Lebensmittelgroßmärkte AG   \n",
       "54    Meat/Poultry                             G'day, Mate   \n",
       "55    Meat/Poultry                               Ma Maison   \n",
       "56    Meat/Poultry                               Ma Maison   \n",
       "57    Meat/Poultry                           Pavlova, Ltd.   \n",
       "58    Meat/Poultry       Plutzer Lebensmittelgroßmärkte AG   \n",
       "59    Meat/Poultry                           Tokyo Traders   \n",
       "60         Produce                             G'day, Mate   \n",
       "61         Produce               Grandma Kelly's Homestead   \n",
       "62         Produce                                Mayumi's   \n",
       "63         Produce       Plutzer Lebensmittelgroßmärkte AG   \n",
       "64         Produce                           Tokyo Traders   \n",
       "65         Seafood                      Escargots Nouveaux   \n",
       "66         Seafood                              Lyngbysild   \n",
       "67         Seafood                              Lyngbysild   \n",
       "68         Seafood                                Mayumi's   \n",
       "69         Seafood             New England Seafood Cannery   \n",
       "70         Seafood             New England Seafood Cannery   \n",
       "71         Seafood  Nord-Ost-Fisch Handelsgesellschaft mbH   \n",
       "72         Seafood                           Pavlova, Ltd.   \n",
       "73         Seafood                       Svensk Sjöföda AB   \n",
       "74         Seafood                       Svensk Sjöföda AB   \n",
       "75         Seafood                       Svensk Sjöföda AB   \n",
       "76         Seafood                           Tokyo Traders   \n",
       "\n",
       "                         ProductName   1996   1997   1998  \n",
       "0                   Chartreuse verte   3558   4475   4260  \n",
       "1                      Côte de Blaye  24874  49198  67324  \n",
       "2          Laughing Lumberjack Lager     42    910   1444  \n",
       "3                      Sasquatch Ale   1002   2107   3241  \n",
       "4                     Steeleye Stout   3736   5274   4632  \n",
       "5                               Chai   1605   4887   6295  \n",
       "6                              Chang   3017   7038   6299  \n",
       "7                       Lakkalikööri   2046   7379   6335  \n",
       "8                        Ipoh Coffee   4931  11069   7525  \n",
       "9                      Outback Lager   1809   5468   3395  \n",
       "10              Rhönbräu Klosterbier    738   4485   2953  \n",
       "11                Guaraná Fantástica    556   1630   2317  \n",
       "12                     Aniseed Syrup    240   1724   1080  \n",
       "13                    Sirop d'érable      0   9091   5261  \n",
       "14      Grandma's Boysenberry Spread    720   2500   3917  \n",
       "15        Northwoods Cranberry Sauce   3920   4260   4592  \n",
       "16                      Gula Malacca   2042   6737   1135  \n",
       "17                      Genen Shouyu    310   1474      0  \n",
       "18      Chef Anton's Cajun Seasoning   1851   5214   1501  \n",
       "19            Chef Anton's Gumbo Mix   1931    373   3042  \n",
       "20  Louisiana Fiery Hot Pepper Sauce   2473   9373   2022  \n",
       "21         Louisiana Hot Spiced Okra    408   2958     17  \n",
       "22                      Vegie-spread   3348   6899   6453  \n",
       "23   Original Frankfurter grüne Soße    655   4761   3755  \n",
       "24                    Tarte au sucre   9603  21638  15992  \n",
       "25               Gumbär Gummibärchen   3361  10443   6044  \n",
       "26           NuNuCa Nuß-Nougat-Creme    775   1692   1236  \n",
       "27                Schoggi Schokolade   1272  10974   2853  \n",
       "28                          Maxilaku   1920   3128   4196  \n",
       "29                  Valkoinen suklaa    370   2173    893  \n",
       "30                           Pavlova   3128   8663   5424  \n",
       "31               Scottish Longbreads   1294   4157   3262  \n",
       "32            Sir Rodney's Marmalade   6544   7314   8704  \n",
       "33               Sir Rodney's Scones    416   5273   3415  \n",
       "34        Teatime Chocolate Biscuits    901   2986   1974  \n",
       "35                         Chocolade      0   1282     86  \n",
       "36                     Zaanse koeken     97   2930    930  \n",
       "37                    Queso Cabrales   1606   6911   4383  \n",
       "38         Queso Manchego La Pastora    346   8335   3575  \n",
       "39                 Gorgonzola Telino   4154   7300   3465  \n",
       "40                Mascarpone Fabioli   1167   2668   4568  \n",
       "41            Mozzarella di Giovanni   6772  11602   6524  \n",
       "42                 Camembert Pierrot   9024  20505  17295  \n",
       "43              Raclette Courdavault   9035  35775  26345  \n",
       "44                       Flotemysost   4248   8438   6863  \n",
       "45                           Geitost    385    786    476  \n",
       "46                  Gudbrandsdalsost   4239  13062   4640  \n",
       "47                          Filo Mix    246   2124    862  \n",
       "48     Singaporean Hokkien Fried Mee    377   5408   2788  \n",
       "49            Gnocchi di nonna Alice   2763  32604   7225  \n",
       "50                    Ravioli Angelo   2063   2156   3441  \n",
       "51               Gustaf's Knäckebröd     95   4233   2793  \n",
       "52                          Tunnbröd    756   2288   1557  \n",
       "53         Wimmers gute Semmelknödel   3205   8056  10696  \n",
       "54                     Perth Pasties   5103  10661   4808  \n",
       "55                      Pâté chinois   3933   7832   5660  \n",
       "56                         Tourtière    885   3184    658  \n",
       "57                      Alice Mutton   6962  17604   8131  \n",
       "58           Thüringer Rostbratwurst  11929  34755  33683  \n",
       "59                   Mishi Kobe Niku      0   6935    291  \n",
       "60             Manjimup Dried Apples   6158  24570  11090  \n",
       "61   Uncle Bob's Organic Dried Pears    552   9186  12306  \n",
       "62                              Tofu   1385   6234    371  \n",
       "63                 Rössle Sauerkraut   4757  13948   6990  \n",
       "64                     Longlife Tofu   1032   1000    400  \n",
       "65            Escargots de Bourgogne   1378   2076   2427  \n",
       "66                       Rogede sild     91   3355    891  \n",
       "67                         Spegesild   1084   2981   1817  \n",
       "68                             Konbu    422    812   3725  \n",
       "69                  Boston Crab Meat   2778   9814   5317  \n",
       "70   Jack's New England Clam Chowder    807   4957   2915  \n",
       "71             Nord-Ost Matjeshering   2645   6034   4744  \n",
       "72                  Carnarvon Tigers   4725  15950   8496  \n",
       "73                        Gravad lax    603    629   1456  \n",
       "74                       Inlagd Sill   2626   6894   3937  \n",
       "75                        Röd Kaviar    300   3517    179  \n",
       "76                             Ikura   1929   9935   9002  "
      ]
     },
     "execution_count": 52,
     "metadata": {},
     "output_type": "execute_result"
    }
   ],
   "source": [
    "df = pd.read_excel(r'DataFrame for Python.xlsx', sheet_name='Sheet1')\n",
    "pd.set_option('display.max_rows', 2000)\n",
    "df"
   ]
  },
  {
   "cell_type": "markdown",
   "metadata": {
    "button": false,
    "id": "LxLekWDS-1Fy",
    "new_sheet": false,
    "run_control": {
     "read_only": false
    }
   },
   "source": [
    "*optional: apply a style to Matplotlib."
   ]
  },
  {
   "cell_type": "code",
   "execution_count": 4,
   "metadata": {
    "button": false,
    "id": "rMAHbCSJ-1Fy",
    "new_sheet": false,
    "run_control": {
     "read_only": false
    },
    "tags": []
   },
   "outputs": [
    {
     "name": "stdout",
     "output_type": "stream",
     "text": [
      "['Solarize_Light2', '_classic_test_patch', '_mpl-gallery', '_mpl-gallery-nogrid', 'bmh', 'classic', 'dark_background', 'fast', 'fivethirtyeight', 'ggplot', 'grayscale', 'seaborn-v0_8', 'seaborn-v0_8-bright', 'seaborn-v0_8-colorblind', 'seaborn-v0_8-dark', 'seaborn-v0_8-dark-palette', 'seaborn-v0_8-darkgrid', 'seaborn-v0_8-deep', 'seaborn-v0_8-muted', 'seaborn-v0_8-notebook', 'seaborn-v0_8-paper', 'seaborn-v0_8-pastel', 'seaborn-v0_8-poster', 'seaborn-v0_8-talk', 'seaborn-v0_8-ticks', 'seaborn-v0_8-white', 'seaborn-v0_8-whitegrid', 'tableau-colorblind10']\n"
     ]
    }
   ],
   "source": [
    "print(plt.style.available)\n"
   ]
  },
  {
   "cell_type": "code",
   "execution_count": 17,
   "metadata": {
    "tags": []
   },
   "outputs": [],
   "source": [
    "mpl.style.use(['ggplot']) # optional: for ggplot-like style"
   ]
  },
  {
   "cell_type": "code",
   "execution_count": 12,
   "metadata": {
    "tags": []
   },
   "outputs": [],
   "source": [
    "mpl.style.use(['dark_background']) # optional: for ggplot-like style"
   ]
  },
  {
   "cell_type": "markdown",
   "metadata": {
    "button": false,
    "id": "Qdqg4f7c-1Fy",
    "new_sheet": false,
    "run_control": {
     "read_only": false
    }
   },
   "source": [
    "## Line Plots (Series/Dataframe)"
   ]
  },
  {
   "cell_type": "markdown",
   "metadata": {
    "button": false,
    "id": "Zflqg8eQ-1Fy",
    "new_sheet": false,
    "run_control": {
     "read_only": false
    }
   },
   "source": [
    "**What is a line plot and why use it?**\n",
    "\n",
    "A line chart or line plot is a type of plot which displays information as a series of data points called 'markers' connected by straight line segments.\n",
    "<br>It is a basic type of chart common in many fields.\n",
    "Use line plot when you have a continuous data set. These are best suited for trend-based visualizations of data over a period of time."
   ]
  },
  {
   "cell_type": "markdown",
   "metadata": {
    "id": "rGQur3DX-1Fz"
   },
   "source": [
    "### Exercise 1\n",
    "Plot chai rev over time\n",
    "<br>We'll do that in steps"
   ]
  },
  {
   "cell_type": "markdown",
   "metadata": {
    "button": false,
    "id": "KC6PwyFv-1Fz",
    "new_sheet": false,
    "run_control": {
     "read_only": false
    }
   },
   "source": [
    "First,\n",
    "set the 'ProductName' column as the index\n",
    "<br>Save i to a new df2"
   ]
  },
  {
   "cell_type": "code",
   "execution_count": 13,
   "metadata": {
    "id": "8Zyjse3y-1Fz",
    "tags": []
   },
   "outputs": [
    {
     "data": {
      "text/html": [
       "<div>\n",
       "<style scoped>\n",
       "    .dataframe tbody tr th:only-of-type {\n",
       "        vertical-align: middle;\n",
       "    }\n",
       "\n",
       "    .dataframe tbody tr th {\n",
       "        vertical-align: top;\n",
       "    }\n",
       "\n",
       "    .dataframe thead th {\n",
       "        text-align: right;\n",
       "    }\n",
       "</style>\n",
       "<table border=\"1\" class=\"dataframe\">\n",
       "  <thead>\n",
       "    <tr style=\"text-align: right;\">\n",
       "      <th></th>\n",
       "      <th>CategoryName</th>\n",
       "      <th>SupplierName</th>\n",
       "      <th>1996</th>\n",
       "      <th>1997</th>\n",
       "      <th>1998</th>\n",
       "    </tr>\n",
       "    <tr>\n",
       "      <th>ProductName</th>\n",
       "      <th></th>\n",
       "      <th></th>\n",
       "      <th></th>\n",
       "      <th></th>\n",
       "      <th></th>\n",
       "    </tr>\n",
       "  </thead>\n",
       "  <tbody>\n",
       "    <tr>\n",
       "      <th>Chartreuse verte</th>\n",
       "      <td>Beverages</td>\n",
       "      <td>Aux joyeux ecclésiastiques</td>\n",
       "      <td>3558</td>\n",
       "      <td>4475</td>\n",
       "      <td>4260</td>\n",
       "    </tr>\n",
       "    <tr>\n",
       "      <th>Côte de Blaye</th>\n",
       "      <td>Beverages</td>\n",
       "      <td>Aux joyeux ecclésiastiques</td>\n",
       "      <td>24874</td>\n",
       "      <td>49198</td>\n",
       "      <td>67324</td>\n",
       "    </tr>\n",
       "    <tr>\n",
       "      <th>Laughing Lumberjack Lager</th>\n",
       "      <td>Beverages</td>\n",
       "      <td>Bigfoot Breweries</td>\n",
       "      <td>42</td>\n",
       "      <td>910</td>\n",
       "      <td>1444</td>\n",
       "    </tr>\n",
       "    <tr>\n",
       "      <th>Sasquatch Ale</th>\n",
       "      <td>Beverages</td>\n",
       "      <td>Bigfoot Breweries</td>\n",
       "      <td>1002</td>\n",
       "      <td>2107</td>\n",
       "      <td>3241</td>\n",
       "    </tr>\n",
       "    <tr>\n",
       "      <th>Steeleye Stout</th>\n",
       "      <td>Beverages</td>\n",
       "      <td>Bigfoot Breweries</td>\n",
       "      <td>3736</td>\n",
       "      <td>5274</td>\n",
       "      <td>4632</td>\n",
       "    </tr>\n",
       "  </tbody>\n",
       "</table>\n",
       "</div>"
      ],
      "text/plain": [
       "                          CategoryName                SupplierName   1996  \\\n",
       "ProductName                                                                 \n",
       "Chartreuse verte             Beverages  Aux joyeux ecclésiastiques   3558   \n",
       "Côte de Blaye                Beverages  Aux joyeux ecclésiastiques  24874   \n",
       "Laughing Lumberjack Lager    Beverages           Bigfoot Breweries     42   \n",
       "Sasquatch Ale                Beverages           Bigfoot Breweries   1002   \n",
       "Steeleye Stout               Beverages           Bigfoot Breweries   3736   \n",
       "\n",
       "                            1997   1998  \n",
       "ProductName                              \n",
       "Chartreuse verte            4475   4260  \n",
       "Côte de Blaye              49198  67324  \n",
       "Laughing Lumberjack Lager    910   1444  \n",
       "Sasquatch Ale               2107   3241  \n",
       "Steeleye Stout              5274   4632  "
      ]
     },
     "execution_count": 13,
     "metadata": {},
     "output_type": "execute_result"
    }
   ],
   "source": [
    "df2 = df.set_index('ProductName')\n",
    "#The opposite of set is reset. So to reset the index, we can use df_can.reset_index()\n",
    "df2.head()"
   ]
  },
  {
   "cell_type": "markdown",
   "metadata": {
    "id": "jEPi3Y5y-1Fz"
   },
   "source": [
    "Remove the name of the index"
   ]
  },
  {
   "cell_type": "code",
   "execution_count": 19,
   "metadata": {
    "id": "cVE8EGT9-1Fz",
    "tags": []
   },
   "outputs": [
    {
     "data": {
      "text/html": [
       "<div>\n",
       "<style scoped>\n",
       "    .dataframe tbody tr th:only-of-type {\n",
       "        vertical-align: middle;\n",
       "    }\n",
       "\n",
       "    .dataframe tbody tr th {\n",
       "        vertical-align: top;\n",
       "    }\n",
       "\n",
       "    .dataframe thead th {\n",
       "        text-align: right;\n",
       "    }\n",
       "</style>\n",
       "<table border=\"1\" class=\"dataframe\">\n",
       "  <thead>\n",
       "    <tr style=\"text-align: right;\">\n",
       "      <th></th>\n",
       "      <th>CategoryName</th>\n",
       "      <th>SupplierName</th>\n",
       "      <th>1996</th>\n",
       "      <th>1997</th>\n",
       "      <th>1998</th>\n",
       "    </tr>\n",
       "  </thead>\n",
       "  <tbody>\n",
       "    <tr>\n",
       "      <th>Chartreuse verte</th>\n",
       "      <td>Beverages</td>\n",
       "      <td>Aux joyeux ecclésiastiques</td>\n",
       "      <td>3558</td>\n",
       "      <td>4475</td>\n",
       "      <td>4260</td>\n",
       "    </tr>\n",
       "    <tr>\n",
       "      <th>Côte de Blaye</th>\n",
       "      <td>Beverages</td>\n",
       "      <td>Aux joyeux ecclésiastiques</td>\n",
       "      <td>24874</td>\n",
       "      <td>49198</td>\n",
       "      <td>67324</td>\n",
       "    </tr>\n",
       "    <tr>\n",
       "      <th>Laughing Lumberjack Lager</th>\n",
       "      <td>Beverages</td>\n",
       "      <td>Bigfoot Breweries</td>\n",
       "      <td>42</td>\n",
       "      <td>910</td>\n",
       "      <td>1444</td>\n",
       "    </tr>\n",
       "    <tr>\n",
       "      <th>Sasquatch Ale</th>\n",
       "      <td>Beverages</td>\n",
       "      <td>Bigfoot Breweries</td>\n",
       "      <td>1002</td>\n",
       "      <td>2107</td>\n",
       "      <td>3241</td>\n",
       "    </tr>\n",
       "    <tr>\n",
       "      <th>Steeleye Stout</th>\n",
       "      <td>Beverages</td>\n",
       "      <td>Bigfoot Breweries</td>\n",
       "      <td>3736</td>\n",
       "      <td>5274</td>\n",
       "      <td>4632</td>\n",
       "    </tr>\n",
       "  </tbody>\n",
       "</table>\n",
       "</div>"
      ],
      "text/plain": [
       "                          CategoryName                SupplierName   1996  \\\n",
       "Chartreuse verte             Beverages  Aux joyeux ecclésiastiques   3558   \n",
       "Côte de Blaye                Beverages  Aux joyeux ecclésiastiques  24874   \n",
       "Laughing Lumberjack Lager    Beverages           Bigfoot Breweries     42   \n",
       "Sasquatch Ale                Beverages           Bigfoot Breweries   1002   \n",
       "Steeleye Stout               Beverages           Bigfoot Breweries   3736   \n",
       "\n",
       "                            1997   1998  \n",
       "Chartreuse verte            4475   4260  \n",
       "Côte de Blaye              49198  67324  \n",
       "Laughing Lumberjack Lager    910   1444  \n",
       "Sasquatch Ale               2107   3241  \n",
       "Steeleye Stout              5274   4632  "
      ]
     },
     "execution_count": 19,
     "metadata": {},
     "output_type": "execute_result"
    }
   ],
   "source": [
    "# optional: to remove the name of the index\n",
    "df2.index.name = None\n",
    "df2.head()"
   ]
  },
  {
   "cell_type": "markdown",
   "metadata": {
    "id": "sUxv-hk5-1F0"
   },
   "source": [
    "Extract the data series for 'Chai' product.\n",
    "<br>Set it to a new Series called `chai`"
   ]
  },
  {
   "cell_type": "code",
   "execution_count": 22,
   "metadata": {
    "button": false,
    "id": "vYKoz-yp-1F0",
    "new_sheet": false,
    "run_control": {
     "read_only": false
    },
    "tags": []
   },
   "outputs": [
    {
     "data": {
      "text/plain": [
       "1996    1605\n",
       "1997    4887\n",
       "1998    6295\n",
       "Name: Chai, dtype: object"
      ]
     },
     "execution_count": 22,
     "metadata": {},
     "output_type": "execute_result"
    }
   ],
   "source": [
    "chai = df2.loc['Chai', [1996,1997,1998]]\n",
    "chai"
   ]
  },
  {
   "cell_type": "markdown",
   "metadata": {
    "button": false,
    "id": "gwV9l5iM-1F0",
    "new_sheet": false,
    "run_control": {
     "read_only": false
    }
   },
   "source": [
    "Plot a line plot"
   ]
  },
  {
   "cell_type": "code",
   "execution_count": 23,
   "metadata": {
    "button": false,
    "id": "1q1Fa0BV-1F0",
    "new_sheet": false,
    "run_control": {
     "read_only": false
    },
    "tags": []
   },
   "outputs": [
    {
     "data": {
      "image/png": "[encoded data removed]",
      "text/plain": [
       "<Figure size 640x480 with 1 Axes>"
      ]
     },
     "metadata": {},
     "output_type": "display_data"
    }
   ],
   "source": [
    "chai.plot()\n",
    "plt.show()"
   ]
  },
  {
   "cell_type": "markdown",
   "metadata": {
    "button": false,
    "id": "IDkP_daH-1F0",
    "new_sheet": false,
    "run_control": {
     "read_only": false
    }
   },
   "source": [
    "*pandas* automatically populated the x-axis with the index values (years), and the y-axis with the column values (Rev).\n",
    "<br>However, notice how the years were not displayed right.\n",
    "<br>Let's change the type of the index values to *integer* for plotting."
   ]
  },
  {
   "cell_type": "code",
   "execution_count": 24,
   "metadata": {
    "id": "VuJ9GrF7-1F1",
    "tags": []
   },
   "outputs": [],
   "source": [
    "chai.index = chai.index.map(int) # let's change the index values of \"CHAI\" to type integer for plotting"
   ]
  },
  {
   "cell_type": "markdown",
   "metadata": {
    "id": "YgK5OVoZ-1F1"
   },
   "source": [
    "Now, try to plot again, also, label the x and y axis as follows.\n",
    "<br>Did it help ?\n"
   ]
  },
  {
   "cell_type": "code",
   "execution_count": 25,
   "metadata": {
    "button": false,
    "id": "dtB7uenu-1F1",
    "new_sheet": false,
    "run_control": {
     "read_only": false
    },
    "tags": []
   },
   "outputs": [
    {
     "data": {
      "image/png": "[encoded data removed]",
      "text/plain": [
       "<Figure size 640x480 with 1 Axes>"
      ]
     },
     "metadata": {},
     "output_type": "display_data"
    }
   ],
   "source": [
    "chai.plot(kind='line')\n",
    "\n",
    "plt.title('Rev for CHAI')\n",
    "plt.ylabel('Rev')\n",
    "plt.xlabel('Years')\n",
    "\n",
    "plt.show() # need this line to show the updates made to the figure"
   ]
  },
  {
   "cell_type": "markdown",
   "metadata": {
    "id": "SZIa0kc9-1F1"
   },
   "source": [
    "Still the year axis in not OK, let's remove the number of values (with --> `plt.locator_params`) , we only need 3"
   ]
  },
  {
   "cell_type": "code",
   "execution_count": 26,
   "metadata": {
    "id": "Chd_uOxE-1F2",
    "tags": []
   },
   "outputs": [
    {
     "data": {
      "image/png": "[encoded data removed]",
      "text/plain": [
       "<Figure size 640x480 with 1 Axes>"
      ]
     },
     "metadata": {},
     "output_type": "display_data"
    }
   ],
   "source": [
    "chai.plot(kind='line')\n",
    "\n",
    "plt.locator_params(axis='x', nbins=3)\n",
    "\n",
    "plt.title('Rev for CHAI')\n",
    "plt.ylabel('Rev')\n",
    "plt.xlabel('Years')\n",
    "\n",
    "plt.show()"
   ]
  },
  {
   "cell_type": "markdown",
   "metadata": {
    "id": "B4GF_zjP-1F2"
   },
   "source": [
    "Greate!"
   ]
  },
  {
   "cell_type": "markdown",
   "metadata": {
    "button": false,
    "id": "nBXU7NP9-1F2",
    "new_sheet": false,
    "run_control": {
     "read_only": false
    }
   },
   "source": [
    "We can clearly notice the revenue for `CHAI` spiked up in 1997 .\n",
    "Let's annotate this spike in the plot"
   ]
  },
  {
   "cell_type": "code",
   "execution_count": 30,
   "metadata": {
    "button": false,
    "id": "w6UMMOOe-1F2",
    "new_sheet": false,
    "run_control": {
     "read_only": false
    },
    "tags": []
   },
   "outputs": [
    {
     "data": {
      "image/png": "[encoded data removed]",
      "text/plain": [
       "<Figure size 640x480 with 1 Axes>"
      ]
     },
     "metadata": {},
     "output_type": "display_data"
    }
   ],
   "source": [
    "chai.plot(kind='line')\n",
    "\n",
    "plt.locator_params(axis='x', nbins=3)\n",
    "\n",
    "plt.title('Rev for CHAI')\n",
    "plt.ylabel('Rev')\n",
    "plt.xlabel('Years')\n",
    "\n",
    "# annotate the 1997\n",
    "# syntax: plt.text(x, y, label)\n",
    "plt.text(1997, 6000, 'Rev Spiked Up in 97', fontdict={'color':  'black'}) # see note below\n",
    "\n",
    "plt.show()"
   ]
  },
  {
   "cell_type": "markdown",
   "metadata": {
    "button": false,
    "id": "jJSa-nvF-1F2",
    "new_sheet": false,
    "run_control": {
     "read_only": false
    }
   },
   "source": [
    "With just a few lines of code, we were able to quickly identify and visualize the spike!\n",
    "\n",
    "Quick note on x and y values in `plt.text(x, y, label)`:\n",
    "\n",
    "    Since the x-axis (years) is type 'integer', we specified x as a year. The y axis (Rev) is type 'integer', so we can just specify the value y = 6000.\n",
    "\n",
    "```python\n",
    "    plt.text(1997, 6000, 'Rev Spiked Up') # years stored as type int\n",
    "```\n",
    "    If the years were stored as type 'string', we would need to specify x as the index position of the year. Eg 2th index is year 1997 since it is the 2th year with a base year of 1996.\n",
    "```python\n",
    "    plt.text(1, 6000, 'Rev Spiked Up') # years stored as type string\n",
    "```"
   ]
  },
  {
   "cell_type": "markdown",
   "metadata": {
    "id": "Wkzx1_8K-1F3"
   },
   "source": [
    "<br>\n",
    "<br>\n",
    "<br>"
   ]
  },
  {
   "cell_type": "markdown",
   "metadata": {
    "button": false,
    "id": "Lx0FrdNb-1F3",
    "new_sheet": false,
    "run_control": {
     "read_only": false
    }
   },
   "source": [
    "### Exercise 2\n",
    "We can easily add more products to line plot to make meaningful comparisons Rev from different products.\n",
    "\n",
    "Let's compare the Rev of products \"Chang\" and \"Tofu\" from 1996 to 1998.\n"
   ]
  },
  {
   "cell_type": "markdown",
   "metadata": {
    "button": false,
    "id": "GriYKRNx-1F3",
    "new_sheet": false,
    "run_control": {
     "read_only": false
    }
   },
   "source": [
    "Get the data set for \"Chang\" and \"Tofu\", and display dataframe.\n",
    "<br> Save it to `df_ct`"
   ]
  },
  {
   "cell_type": "code",
   "execution_count": 31,
   "metadata": {
    "tags": []
   },
   "outputs": [
    {
     "data": {
      "text/html": [
       "<div>\n",
       "<style scoped>\n",
       "    .dataframe tbody tr th:only-of-type {\n",
       "        vertical-align: middle;\n",
       "    }\n",
       "\n",
       "    .dataframe tbody tr th {\n",
       "        vertical-align: top;\n",
       "    }\n",
       "\n",
       "    .dataframe thead th {\n",
       "        text-align: right;\n",
       "    }\n",
       "</style>\n",
       "<table border=\"1\" class=\"dataframe\">\n",
       "  <thead>\n",
       "    <tr style=\"text-align: right;\">\n",
       "      <th></th>\n",
       "      <th>CategoryName</th>\n",
       "      <th>SupplierName</th>\n",
       "      <th>1996</th>\n",
       "      <th>1997</th>\n",
       "      <th>1998</th>\n",
       "    </tr>\n",
       "  </thead>\n",
       "  <tbody>\n",
       "    <tr>\n",
       "      <th>Chartreuse verte</th>\n",
       "      <td>Beverages</td>\n",
       "      <td>Aux joyeux ecclésiastiques</td>\n",
       "      <td>3558</td>\n",
       "      <td>4475</td>\n",
       "      <td>4260</td>\n",
       "    </tr>\n",
       "    <tr>\n",
       "      <th>Côte de Blaye</th>\n",
       "      <td>Beverages</td>\n",
       "      <td>Aux joyeux ecclésiastiques</td>\n",
       "      <td>24874</td>\n",
       "      <td>49198</td>\n",
       "      <td>67324</td>\n",
       "    </tr>\n",
       "    <tr>\n",
       "      <th>Laughing Lumberjack Lager</th>\n",
       "      <td>Beverages</td>\n",
       "      <td>Bigfoot Breweries</td>\n",
       "      <td>42</td>\n",
       "      <td>910</td>\n",
       "      <td>1444</td>\n",
       "    </tr>\n",
       "    <tr>\n",
       "      <th>Sasquatch Ale</th>\n",
       "      <td>Beverages</td>\n",
       "      <td>Bigfoot Breweries</td>\n",
       "      <td>1002</td>\n",
       "      <td>2107</td>\n",
       "      <td>3241</td>\n",
       "    </tr>\n",
       "    <tr>\n",
       "      <th>Steeleye Stout</th>\n",
       "      <td>Beverages</td>\n",
       "      <td>Bigfoot Breweries</td>\n",
       "      <td>3736</td>\n",
       "      <td>5274</td>\n",
       "      <td>4632</td>\n",
       "    </tr>\n",
       "    <tr>\n",
       "      <th>...</th>\n",
       "      <td>...</td>\n",
       "      <td>...</td>\n",
       "      <td>...</td>\n",
       "      <td>...</td>\n",
       "      <td>...</td>\n",
       "    </tr>\n",
       "    <tr>\n",
       "      <th>Carnarvon Tigers</th>\n",
       "      <td>Seafood</td>\n",
       "      <td>Pavlova, Ltd.</td>\n",
       "      <td>4725</td>\n",
       "      <td>15950</td>\n",
       "      <td>8496</td>\n",
       "    </tr>\n",
       "    <tr>\n",
       "      <th>Gravad lax</th>\n",
       "      <td>Seafood</td>\n",
       "      <td>Svensk Sjöföda AB</td>\n",
       "      <td>603</td>\n",
       "      <td>629</td>\n",
       "      <td>1456</td>\n",
       "    </tr>\n",
       "    <tr>\n",
       "      <th>Inlagd Sill</th>\n",
       "      <td>Seafood</td>\n",
       "      <td>Svensk Sjöföda AB</td>\n",
       "      <td>2626</td>\n",
       "      <td>6894</td>\n",
       "      <td>3937</td>\n",
       "    </tr>\n",
       "    <tr>\n",
       "      <th>Röd Kaviar</th>\n",
       "      <td>Seafood</td>\n",
       "      <td>Svensk Sjöföda AB</td>\n",
       "      <td>300</td>\n",
       "      <td>3517</td>\n",
       "      <td>179</td>\n",
       "    </tr>\n",
       "    <tr>\n",
       "      <th>Ikura</th>\n",
       "      <td>Seafood</td>\n",
       "      <td>Tokyo Traders</td>\n",
       "      <td>1929</td>\n",
       "      <td>9935</td>\n",
       "      <td>9002</td>\n",
       "    </tr>\n",
       "  </tbody>\n",
       "</table>\n",
       "<p>77 rows × 5 columns</p>\n",
       "</div>"
      ],
      "text/plain": [
       "                          CategoryName                SupplierName   1996  \\\n",
       "Chartreuse verte             Beverages  Aux joyeux ecclésiastiques   3558   \n",
       "Côte de Blaye                Beverages  Aux joyeux ecclésiastiques  24874   \n",
       "Laughing Lumberjack Lager    Beverages           Bigfoot Breweries     42   \n",
       "Sasquatch Ale                Beverages           Bigfoot Breweries   1002   \n",
       "Steeleye Stout               Beverages           Bigfoot Breweries   3736   \n",
       "...                                ...                         ...    ...   \n",
       "Carnarvon Tigers               Seafood               Pavlova, Ltd.   4725   \n",
       "Gravad lax                     Seafood           Svensk Sjöföda AB    603   \n",
       "Inlagd Sill                    Seafood           Svensk Sjöföda AB   2626   \n",
       "Röd Kaviar                     Seafood           Svensk Sjöföda AB    300   \n",
       "Ikura                          Seafood               Tokyo Traders   1929   \n",
       "\n",
       "                            1997   1998  \n",
       "Chartreuse verte            4475   4260  \n",
       "Côte de Blaye              49198  67324  \n",
       "Laughing Lumberjack Lager    910   1444  \n",
       "Sasquatch Ale               2107   3241  \n",
       "Steeleye Stout              5274   4632  \n",
       "...                          ...    ...  \n",
       "Carnarvon Tigers           15950   8496  \n",
       "Gravad lax                   629   1456  \n",
       "Inlagd Sill                 6894   3937  \n",
       "Röd Kaviar                  3517    179  \n",
       "Ikura                       9935   9002  \n",
       "\n",
       "[77 rows x 5 columns]"
      ]
     },
     "execution_count": 31,
     "metadata": {},
     "output_type": "execute_result"
    }
   ],
   "source": [
    "df2"
   ]
  },
  {
   "cell_type": "code",
   "execution_count": 32,
   "metadata": {
    "id": "qTnRrypl-1F3",
    "tags": []
   },
   "outputs": [
    {
     "data": {
      "text/html": [
       "<div>\n",
       "<style scoped>\n",
       "    .dataframe tbody tr th:only-of-type {\n",
       "        vertical-align: middle;\n",
       "    }\n",
       "\n",
       "    .dataframe tbody tr th {\n",
       "        vertical-align: top;\n",
       "    }\n",
       "\n",
       "    .dataframe thead th {\n",
       "        text-align: right;\n",
       "    }\n",
       "</style>\n",
       "<table border=\"1\" class=\"dataframe\">\n",
       "  <thead>\n",
       "    <tr style=\"text-align: right;\">\n",
       "      <th></th>\n",
       "      <th>1996</th>\n",
       "      <th>1997</th>\n",
       "      <th>1998</th>\n",
       "    </tr>\n",
       "  </thead>\n",
       "  <tbody>\n",
       "    <tr>\n",
       "      <th>Chang</th>\n",
       "      <td>3017</td>\n",
       "      <td>7038</td>\n",
       "      <td>6299</td>\n",
       "    </tr>\n",
       "    <tr>\n",
       "      <th>Tofu</th>\n",
       "      <td>1385</td>\n",
       "      <td>6234</td>\n",
       "      <td>371</td>\n",
       "    </tr>\n",
       "  </tbody>\n",
       "</table>\n",
       "</div>"
      ],
      "text/plain": [
       "       1996  1997  1998\n",
       "Chang  3017  7038  6299\n",
       "Tofu   1385  6234   371"
      ]
     },
     "execution_count": 32,
     "metadata": {},
     "output_type": "execute_result"
    }
   ],
   "source": [
    "df_ct = df2.loc[['Chang', 'Tofu'], [1996,1997,1998]]\n",
    "df_ct.head()"
   ]
  },
  {
   "cell_type": "markdown",
   "metadata": {
    "button": false,
    "id": "81w0KmRw-1F3",
    "new_sheet": false,
    "run_control": {
     "read_only": false
    }
   },
   "source": [
    "Plot graph. We will explicitly specify line plot by passing in `kind` parameter to `plot()`."
   ]
  },
  {
   "cell_type": "code",
   "execution_count": 33,
   "metadata": {
    "button": false,
    "id": "tbkMcJqp-1F3",
    "new_sheet": false,
    "run_control": {
     "read_only": false
    },
    "tags": []
   },
   "outputs": [
    {
     "data": {
      "image/png": "[encoded data removed]",
      "text/plain": [
       "<Figure size 640x480 with 1 Axes>"
      ]
     },
     "metadata": {},
     "output_type": "display_data"
    }
   ],
   "source": [
    "df_ct.plot(kind='line')\n",
    "plt.show()"
   ]
  },
  {
   "cell_type": "markdown",
   "metadata": {
    "button": false,
    "id": "Z1aI2qaS-1F3",
    "new_sheet": false,
    "run_control": {
     "read_only": false
    }
   },
   "source": [
    "Doesn't look right!!!\n",
    "\n",
    "*pandas* plots the indices on the x-axis and the columns as individual lines on the y-axis.\n",
    "<br>Since `df_ct` is a dataframe with the `ProductName` as the index and `years` as the columns, we must first swap the row and columns.\n",
    "<br> Use `transpose` method"
   ]
  },
  {
   "cell_type": "code",
   "execution_count": 34,
   "metadata": {
    "button": false,
    "id": "S9xtcBW7-1F4",
    "new_sheet": false,
    "run_control": {
     "read_only": false
    },
    "tags": []
   },
   "outputs": [
    {
     "data": {
      "text/html": [
       "<div>\n",
       "<style scoped>\n",
       "    .dataframe tbody tr th:only-of-type {\n",
       "        vertical-align: middle;\n",
       "    }\n",
       "\n",
       "    .dataframe tbody tr th {\n",
       "        vertical-align: top;\n",
       "    }\n",
       "\n",
       "    .dataframe thead th {\n",
       "        text-align: right;\n",
       "    }\n",
       "</style>\n",
       "<table border=\"1\" class=\"dataframe\">\n",
       "  <thead>\n",
       "    <tr style=\"text-align: right;\">\n",
       "      <th></th>\n",
       "      <th>Chang</th>\n",
       "      <th>Tofu</th>\n",
       "    </tr>\n",
       "  </thead>\n",
       "  <tbody>\n",
       "    <tr>\n",
       "      <th>1996</th>\n",
       "      <td>3017</td>\n",
       "      <td>1385</td>\n",
       "    </tr>\n",
       "    <tr>\n",
       "      <th>1997</th>\n",
       "      <td>7038</td>\n",
       "      <td>6234</td>\n",
       "    </tr>\n",
       "    <tr>\n",
       "      <th>1998</th>\n",
       "      <td>6299</td>\n",
       "      <td>371</td>\n",
       "    </tr>\n",
       "  </tbody>\n",
       "</table>\n",
       "</div>"
      ],
      "text/plain": [
       "      Chang  Tofu\n",
       "1996   3017  1385\n",
       "1997   7038  6234\n",
       "1998   6299   371"
      ]
     },
     "execution_count": 34,
     "metadata": {},
     "output_type": "execute_result"
    }
   ],
   "source": [
    "df_ct = df_ct.transpose()\n",
    "df_ct.head()"
   ]
  },
  {
   "cell_type": "markdown",
   "metadata": {
    "id": "pOfOIaoQ-1F4"
   },
   "source": [
    "Try to plot again"
   ]
  },
  {
   "cell_type": "code",
   "execution_count": 35,
   "metadata": {
    "id": "-IrkjAvN-1F4",
    "tags": []
   },
   "outputs": [
    {
     "data": {
      "image/png": "[encoded data removed]",
      "text/plain": [
       "<Figure size 640x480 with 1 Axes>"
      ]
     },
     "metadata": {},
     "output_type": "display_data"
    }
   ],
   "source": [
    "df_ct.plot(kind='line')\n",
    "plt.show()"
   ]
  },
  {
   "cell_type": "markdown",
   "metadata": {
    "button": false,
    "id": "6kfWwzrK-1F4",
    "new_sheet": false,
    "run_control": {
     "read_only": false
    }
   },
   "source": [
    "Again, the year axis in not OK, let's remove the number of values to 3 (with --> `plt.locator_params`).\n",
    "Also, make sure to add a title to the plot and label the axes."
   ]
  },
  {
   "cell_type": "code",
   "execution_count": 36,
   "metadata": {
    "button": false,
    "id": "viKH6QGq-1F4",
    "new_sheet": false,
    "run_control": {
     "read_only": false
    },
    "tags": []
   },
   "outputs": [
    {
     "data": {
      "image/png": "[encoded data removed]",
      "text/plain": [
       "<Figure size 640x480 with 1 Axes>"
      ]
     },
     "metadata": {},
     "output_type": "display_data"
    }
   ],
   "source": [
    "df_ct.plot(kind='line')\n",
    "\n",
    "plt.title('Chang and Tofu Rev')\n",
    "plt.ylabel('Rev')\n",
    "plt.xlabel('Years')\n",
    "\n",
    "plt.locator_params(axis='x', nbins=3)\n",
    "\n",
    "plt.show()"
   ]
  },
  {
   "cell_type": "markdown",
   "metadata": {
    "id": "sofMlx4g-1F5"
   },
   "source": [
    "*pandas* will auomatically graph the two products on the same graph."
   ]
  },
  {
   "cell_type": "markdown",
   "metadata": {
    "button": false,
    "id": "vj6kRjMi-1F5",
    "new_sheet": false,
    "run_control": {
     "read_only": false
    }
   },
   "source": [
    "*Note*: How come we didn't need to transpose `chai` dataframe before plotting (like we did for `df_ct`)?\n",
    "\n",
    "That's because `Chai` is a series as opposed to a dataframe, and has the years as its indices as shown below.\n",
    "\n",
    ">class 'pandas.core.series.Series' <br>\n",
    ">1996    1605 <br>\n",
    ">1997    4887 <br>\n",
    ">1998    6295 <br>\n",
    ">Name: Chai, dtype: object <br>"
   ]
  },
  {
   "cell_type": "code",
   "execution_count": 37,
   "metadata": {
    "id": "xXVvtMIe-1F5",
    "tags": []
   },
   "outputs": [
    {
     "name": "stdout",
     "output_type": "stream",
     "text": [
      "<class 'pandas.core.series.Series'>\n",
      "1996    1605\n",
      "1997    4887\n",
      "1998    6295\n",
      "Name: Chai, dtype: object\n"
     ]
    }
   ],
   "source": [
    "print(type(chai))\n",
    "print(chai.head(5))"
   ]
  },
  {
   "cell_type": "markdown",
   "metadata": {
    "button": false,
    "id": "btR12nx4-1F5",
    "new_sheet": false,
    "run_control": {
     "read_only": false
    }
   },
   "source": [
    "Line plot is a handy tool to display several dependent variables against one independent variable. However, it is recommended that no more than 5-10 lines on a single graph; any more than that and it becomes difficult to interpret."
   ]
  },
  {
   "cell_type": "markdown",
   "metadata": {
    "button": false,
    "id": "25oCNnKJ-1F6",
    "new_sheet": false,
    "run_control": {
     "read_only": false
    }
   },
   "source": [
    "## Other Plots\n",
    "\n",
    "There are many other plotting styles available other than the default Line plot, all of which can be accessed by passing `kind` keyword to `plot()`.\n",
    "<br>The full list of available plots are as follows:\n",
    "\n",
    "* `bar` for vertical bar plots\n",
    "* `barh` for horizontal bar plots\n",
    "* `hist` for histogram\n",
    "* `box` for boxplot\n",
    "* `kde` or `density` for density plots\n",
    "* `area` for area plots\n",
    "* `pie` for pie plots\n",
    "* `scatter` for scatter plots\n",
    "* `hexbin` for hexbin plot"
   ]
  },
  {
   "cell_type": "markdown",
   "metadata": {
    "id": "OSNhOY3P-1F5"
   },
   "source": [
    "### Exercise 3"
   ]
  },
  {
   "cell_type": "markdown",
   "metadata": {
    "id": "zNJQeczE-1F6"
   },
   "source": [
    "Create  the following bar chart"
   ]
  },
  {
   "cell_type": "code",
   "execution_count": 38,
   "metadata": {
    "id": "GiEdlAnX-1F6",
    "tags": []
   },
   "outputs": [
    {
     "data": {
      "image/png": "[encoded data removed]",
      "text/plain": [
       "<Figure size 640x480 with 1 Axes>"
      ]
     },
     "metadata": {},
     "output_type": "display_data"
    }
   ],
   "source": [
    "df_ct.plot(kind='bar')\n",
    "\n",
    "plt.title('Chang an Tofu Rev')\n",
    "plt.ylabel('Rev')\n",
    "plt.xlabel('Years')\n",
    "\n",
    "plt.locator_params(axis='x', nbins=3)\n",
    "\n",
    "plt.show()"
   ]
  },
  {
   "cell_type": "markdown",
   "metadata": {
    "id": "pSqpzyD5-1F6"
   },
   "source": [
    "Create  the following bar chart"
   ]
  },
  {
   "cell_type": "code",
   "execution_count": 39,
   "metadata": {
    "id": "wlYU_p-J-1F6",
    "tags": []
   },
   "outputs": [
    {
     "data": {
      "image/png": "[encoded data removed]",
      "text/plain": [
       "<Figure size 640x480 with 1 Axes>"
      ]
     },
     "metadata": {},
     "output_type": "display_data"
    }
   ],
   "source": [
    "df_ct.plot(kind='barh')\n",
    "\n",
    "plt.title('Chang an Tofu Rev')\n",
    "plt.ylabel('Rev')\n",
    "plt.xlabel('Years')\n",
    "\n",
    "plt.locator_params(axis='x', nbins=3)\n",
    "\n",
    "plt.show()"
   ]
  },
  {
   "cell_type": "markdown",
   "metadata": {
    "id": "MHK9QOQi-1F7"
   },
   "source": [
    "Create  the following bar chart"
   ]
  },
  {
   "cell_type": "code",
   "execution_count": 41,
   "metadata": {
    "id": "_nhCsquJ-1F7",
    "tags": []
   },
   "outputs": [
    {
     "data": {
      "image/png": "[encoded data removed]",
      "text/plain": [
       "<Figure size 640x480 with 1 Axes>"
      ]
     },
     "metadata": {},
     "output_type": "display_data"
    }
   ],
   "source": [
    "df_ct.plot(kind='pie', y = 'Chang')\n",
    "\n",
    "plt.title('Chang Rev')\n",
    "\n",
    "plt.locator_params(axis='x', nbins=3)\n",
    "\n",
    "plt.show()\n",
    "\n"
   ]
  },
  {
   "cell_type": "markdown",
   "metadata": {
    "id": "sts1r0P8-1F7"
   },
   "source": [
    "Create  the following bar chart"
   ]
  },
  {
   "cell_type": "code",
   "execution_count": 50,
   "metadata": {
    "id": "Yg882KXF-1F7",
    "tags": []
   },
   "outputs": [
    {
     "ename": "TypeError",
     "evalue": "FontProperties.__init__() got an unexpected keyword argument 'color'",
     "output_type": "error",
     "traceback": [
      "\u001b[1;31m---------------------------------------------------------------------------\u001b[0m",
      "\u001b[1;31mTypeError\u001b[0m                                 Traceback (most recent call last)",
      "Cell \u001b[1;32mIn[50], line 13\u001b[0m\n\u001b[0;32m      5\u001b[0m \u001b[38;5;66;03m#plt.locator_params(axis='x', nbins=3)\u001b[39;00m\n\u001b[0;32m      7\u001b[0m font \u001b[38;5;241m=\u001b[39m {\u001b[38;5;124m'\u001b[39m\u001b[38;5;124mfamily\u001b[39m\u001b[38;5;124m'\u001b[39m: \u001b[38;5;124m'\u001b[39m\u001b[38;5;124mserif\u001b[39m\u001b[38;5;124m'\u001b[39m,\n\u001b[0;32m      8\u001b[0m         \u001b[38;5;124m'\u001b[39m\u001b[38;5;124mcolor\u001b[39m\u001b[38;5;124m'\u001b[39m:  \u001b[38;5;124m'\u001b[39m\u001b[38;5;124mdarkred\u001b[39m\u001b[38;5;124m'\u001b[39m,\n\u001b[0;32m      9\u001b[0m         \u001b[38;5;124m'\u001b[39m\u001b[38;5;124mweight\u001b[39m\u001b[38;5;124m'\u001b[39m: \u001b[38;5;124m'\u001b[39m\u001b[38;5;124mnormal\u001b[39m\u001b[38;5;124m'\u001b[39m,\n\u001b[0;32m     10\u001b[0m         \u001b[38;5;124m'\u001b[39m\u001b[38;5;124msize\u001b[39m\u001b[38;5;124m'\u001b[39m: \u001b[38;5;241m16\u001b[39m,\n\u001b[0;32m     11\u001b[0m         }\n\u001b[1;32m---> 13\u001b[0m plt\u001b[38;5;241m.\u001b[39mlegend(prop \u001b[38;5;241m=\u001b[39m {\u001b[38;5;124m'\u001b[39m\u001b[38;5;124mcolor\u001b[39m\u001b[38;5;124m'\u001b[39m:  \u001b[38;5;124m'\u001b[39m\u001b[38;5;124mdarkred\u001b[39m\u001b[38;5;124m'\u001b[39m})\n\u001b[0;32m     15\u001b[0m plt\u001b[38;5;241m.\u001b[39mshow()\n",
      "File \u001b[1;32m~\\anaconda3\\Lib\\site-packages\\matplotlib\\pyplot.py:2710\u001b[0m, in \u001b[0;36mlegend\u001b[1;34m(*args, **kwargs)\u001b[0m\n\u001b[0;32m   2708\u001b[0m \u001b[38;5;129m@_copy_docstring_and_deprecators\u001b[39m(Axes\u001b[38;5;241m.\u001b[39mlegend)\n\u001b[0;32m   2709\u001b[0m \u001b[38;5;28;01mdef\u001b[39;00m \u001b[38;5;21mlegend\u001b[39m(\u001b[38;5;241m*\u001b[39margs, \u001b[38;5;241m*\u001b[39m\u001b[38;5;241m*\u001b[39mkwargs):\n\u001b[1;32m-> 2710\u001b[0m     \u001b[38;5;28;01mreturn\u001b[39;00m gca()\u001b[38;5;241m.\u001b[39mlegend(\u001b[38;5;241m*\u001b[39margs, \u001b[38;5;241m*\u001b[39m\u001b[38;5;241m*\u001b[39mkwargs)\n",
      "File \u001b[1;32m~\\anaconda3\\Lib\\site-packages\\matplotlib\\axes\\_axes.py:318\u001b[0m, in \u001b[0;36mAxes.legend\u001b[1;34m(self, *args, **kwargs)\u001b[0m\n\u001b[0;32m    316\u001b[0m \u001b[38;5;28;01mif\u001b[39;00m \u001b[38;5;28mlen\u001b[39m(extra_args):\n\u001b[0;32m    317\u001b[0m     \u001b[38;5;28;01mraise\u001b[39;00m \u001b[38;5;167;01mTypeError\u001b[39;00m(\u001b[38;5;124m'\u001b[39m\u001b[38;5;124mlegend only accepts two non-keyword arguments\u001b[39m\u001b[38;5;124m'\u001b[39m)\n\u001b[1;32m--> 318\u001b[0m \u001b[38;5;28mself\u001b[39m\u001b[38;5;241m.\u001b[39mlegend_ \u001b[38;5;241m=\u001b[39m mlegend\u001b[38;5;241m.\u001b[39mLegend(\u001b[38;5;28mself\u001b[39m, handles, labels, \u001b[38;5;241m*\u001b[39m\u001b[38;5;241m*\u001b[39mkwargs)\n\u001b[0;32m    319\u001b[0m \u001b[38;5;28mself\u001b[39m\u001b[38;5;241m.\u001b[39mlegend_\u001b[38;5;241m.\u001b[39m_remove_method \u001b[38;5;241m=\u001b[39m \u001b[38;5;28mself\u001b[39m\u001b[38;5;241m.\u001b[39m_remove_legend\n\u001b[0;32m    320\u001b[0m \u001b[38;5;28;01mreturn\u001b[39;00m \u001b[38;5;28mself\u001b[39m\u001b[38;5;241m.\u001b[39mlegend_\n",
      "File \u001b[1;32m~\\anaconda3\\Lib\\site-packages\\matplotlib\\_api\\deprecation.py:454\u001b[0m, in \u001b[0;36mmake_keyword_only.<locals>.wrapper\u001b[1;34m(*args, **kwargs)\u001b[0m\n\u001b[0;32m    448\u001b[0m \u001b[38;5;28;01mif\u001b[39;00m \u001b[38;5;28mlen\u001b[39m(args) \u001b[38;5;241m>\u001b[39m name_idx:\n\u001b[0;32m    449\u001b[0m     warn_deprecated(\n\u001b[0;32m    450\u001b[0m         since, message\u001b[38;5;241m=\u001b[39m\u001b[38;5;124m\"\u001b[39m\u001b[38;5;124mPassing the \u001b[39m\u001b[38;5;132;01m%(name)s\u001b[39;00m\u001b[38;5;124m \u001b[39m\u001b[38;5;132;01m%(obj_type)s\u001b[39;00m\u001b[38;5;124m \u001b[39m\u001b[38;5;124m\"\u001b[39m\n\u001b[0;32m    451\u001b[0m         \u001b[38;5;124m\"\u001b[39m\u001b[38;5;124mpositionally is deprecated since Matplotlib \u001b[39m\u001b[38;5;132;01m%(since)s\u001b[39;00m\u001b[38;5;124m; the \u001b[39m\u001b[38;5;124m\"\u001b[39m\n\u001b[0;32m    452\u001b[0m         \u001b[38;5;124m\"\u001b[39m\u001b[38;5;124mparameter will become keyword-only \u001b[39m\u001b[38;5;132;01m%(removal)s\u001b[39;00m\u001b[38;5;124m.\u001b[39m\u001b[38;5;124m\"\u001b[39m,\n\u001b[0;32m    453\u001b[0m         name\u001b[38;5;241m=\u001b[39mname, obj_type\u001b[38;5;241m=\u001b[39m\u001b[38;5;124mf\u001b[39m\u001b[38;5;124m\"\u001b[39m\u001b[38;5;124mparameter of \u001b[39m\u001b[38;5;132;01m{\u001b[39;00mfunc\u001b[38;5;241m.\u001b[39m\u001b[38;5;18m__name__\u001b[39m\u001b[38;5;132;01m}\u001b[39;00m\u001b[38;5;124m()\u001b[39m\u001b[38;5;124m\"\u001b[39m)\n\u001b[1;32m--> 454\u001b[0m \u001b[38;5;28;01mreturn\u001b[39;00m func(\u001b[38;5;241m*\u001b[39margs, \u001b[38;5;241m*\u001b[39m\u001b[38;5;241m*\u001b[39mkwargs)\n",
      "File \u001b[1;32m~\\anaconda3\\Lib\\site-packages\\matplotlib\\legend.py:428\u001b[0m, in \u001b[0;36mLegend.__init__\u001b[1;34m(self, parent, handles, labels, loc, numpoints, markerscale, markerfirst, reverse, scatterpoints, scatteryoffsets, prop, fontsize, labelcolor, borderpad, labelspacing, handlelength, handleheight, handletextpad, borderaxespad, columnspacing, ncols, mode, fancybox, shadow, title, title_fontsize, framealpha, edgecolor, facecolor, bbox_to_anchor, bbox_transform, frameon, handler_map, title_fontproperties, alignment, ncol, draggable)\u001b[0m\n\u001b[0;32m    425\u001b[0m         \u001b[38;5;28mself\u001b[39m\u001b[38;5;241m.\u001b[39mprop \u001b[38;5;241m=\u001b[39m FontProperties(\n\u001b[0;32m    426\u001b[0m             size\u001b[38;5;241m=\u001b[39mmpl\u001b[38;5;241m.\u001b[39mrcParams[\u001b[38;5;124m\"\u001b[39m\u001b[38;5;124mlegend.fontsize\u001b[39m\u001b[38;5;124m\"\u001b[39m])\n\u001b[0;32m    427\u001b[0m \u001b[38;5;28;01melse\u001b[39;00m:\n\u001b[1;32m--> 428\u001b[0m     \u001b[38;5;28mself\u001b[39m\u001b[38;5;241m.\u001b[39mprop \u001b[38;5;241m=\u001b[39m FontProperties\u001b[38;5;241m.\u001b[39m_from_any(prop)\n\u001b[0;32m    429\u001b[0m     \u001b[38;5;28;01mif\u001b[39;00m \u001b[38;5;28misinstance\u001b[39m(prop, \u001b[38;5;28mdict\u001b[39m) \u001b[38;5;129;01mand\u001b[39;00m \u001b[38;5;124m\"\u001b[39m\u001b[38;5;124msize\u001b[39m\u001b[38;5;124m\"\u001b[39m \u001b[38;5;129;01mnot\u001b[39;00m \u001b[38;5;129;01min\u001b[39;00m prop:\n\u001b[0;32m    430\u001b[0m         \u001b[38;5;28mself\u001b[39m\u001b[38;5;241m.\u001b[39mprop\u001b[38;5;241m.\u001b[39mset_size(mpl\u001b[38;5;241m.\u001b[39mrcParams[\u001b[38;5;124m\"\u001b[39m\u001b[38;5;124mlegend.fontsize\u001b[39m\u001b[38;5;124m\"\u001b[39m])\n",
      "File \u001b[1;32m~\\anaconda3\\Lib\\site-packages\\matplotlib\\font_manager.py:629\u001b[0m, in \u001b[0;36mFontProperties._from_any\u001b[1;34m(cls, arg)\u001b[0m\n\u001b[0;32m    627\u001b[0m     \u001b[38;5;28;01mreturn\u001b[39;00m \u001b[38;5;28mcls\u001b[39m(arg)\n\u001b[0;32m    628\u001b[0m \u001b[38;5;28;01melse\u001b[39;00m:\n\u001b[1;32m--> 629\u001b[0m     \u001b[38;5;28;01mreturn\u001b[39;00m \u001b[38;5;28mcls\u001b[39m(\u001b[38;5;241m*\u001b[39m\u001b[38;5;241m*\u001b[39marg)\n",
      "\u001b[1;31mTypeError\u001b[0m: FontProperties.__init__() got an unexpected keyword argument 'color'"
     ]
    },
    {
     "data": {
      "image/png": "[encoded data removed]",
      "text/plain": [
       "<Figure size 640x480 with 1 Axes>"
      ]
     },
     "metadata": {},
     "output_type": "display_data"
    }
   ],
   "source": [
    "df_ct.plot(kind='pie', y = 'Tofu')\n",
    "\n",
    "plt.title('Tofu Rev')\n",
    "\n",
    "#plt.locator_params(axis='x', nbins=3)\n",
    "\n",
    "font = {'family': 'serif',\n",
    "        'color':  'darkred',\n",
    "        'weight': 'normal',\n",
    "        'size': 16,\n",
    "        }\n",
    "\n",
    "plt.legend(prop = {'color':  'darkred'})\n",
    "\n",
    "plt.show()\n"
   ]
  },
  {
   "cell_type": "code",
   "execution_count": null,
   "metadata": {},
   "outputs": [],
   "source": []
  }
 ],
 "metadata": {
  "colab": {
   "provenance": [],
   "toc_visible": true
  },
  "kernelspec": {
   "display_name": "Python 3 (ipykernel)",
   "language": "python",
   "name": "python3"
  },
  "language_info": {
   "codemirror_mode": {
    "name": "ipython",
    "version": 3
   },
   "file_extension": ".py",
   "mimetype": "text/x-python",
   "name": "python",
   "nbconvert_exporter": "python",
   "pygments_lexer": "ipython3",
   "version": "3.11.3"
  }
 },
 "nbformat": 4,
 "nbformat_minor": 4
}
